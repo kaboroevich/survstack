{
 "cells": [
  {
   "cell_type": "markdown",
   "id": "7fd3d9fd-efa9-4575-b95f-ebcb71ce3e71",
   "metadata": {
    "tags": []
   },
   "source": [
    "# Random Forest Analysis of German Breast Cancer Study Group 2\n",
    "\n",
    "This example is an overview of how to perform a stacked survival analysis\n",
    "using the two available interfaces of survstack as well as a comparison\n",
    "of the result to a conventional survival analysis using \n",
    "[scikit-survival](https://scikit-survival.readthedocs.io/en/stable/index.html)."
   ]
  },
  {
   "cell_type": "code",
   "execution_count": 1,
   "id": "e3524571-caf9-4972-be72-84ee82292667",
   "metadata": {
    "tags": []
   },
   "outputs": [],
   "source": [
    "import numpy as np\n",
    "import pandas as pd\n",
    "import seaborn as sns"
   ]
  },
  {
   "cell_type": "code",
   "execution_count": 2,
   "id": "b28f2203-d5fa-467b-bf00-b137ed3521e5",
   "metadata": {
    "tags": []
   },
   "outputs": [],
   "source": [
    "from sklearn import set_config\n",
    "from sklearn.model_selection import train_test_split\n",
    "from sklearn.preprocessing import OrdinalEncoder, OneHotEncoder\n",
    "from sklearn.ensemble import RandomForestClassifier"
   ]
  },
  {
   "cell_type": "code",
   "execution_count": 3,
   "id": "a744f71c-30e1-45e5-a39e-25ccd8b28738",
   "metadata": {
    "tags": []
   },
   "outputs": [],
   "source": [
    "from sksurv.metrics import cumulative_dynamic_auc, integrated_brier_score\n",
    "import sksurv.datasets"
   ]
  },
  {
   "cell_type": "markdown",
   "id": "98b6cfda-4c9d-459e-ac94-8d2f656db8a8",
   "metadata": {
    "tags": []
   },
   "source": [
    "## Load data\n",
    "\n",
    "The scikit-survival package provides multiple survival datasets including the \n",
    "German Breast Cancer Study Group 2 dataset which contains 686 samples and 8 \n",
    "features. None numerical features are converted using the scikit-learn\n",
    "preprocessing functions."
   ]
  },
  {
   "cell_type": "code",
   "execution_count": 4,
   "id": "c53087ce-4b44-4139-ba65-06d29d1120aa",
   "metadata": {
    "tags": []
   },
   "outputs": [],
   "source": [
    "X, y = sksurv.datasets.load_gbsg2()\n",
    "event_field, time_field = y.dtype.names"
   ]
  },
  {
   "cell_type": "code",
   "execution_count": 5,
   "id": "286da6f4-30cc-4313-b8d2-92416a12118b",
   "metadata": {
    "tags": []
   },
   "outputs": [
    {
     "data": {
      "text/html": [
       "<div>\n",
       "<style scoped>\n",
       "    .dataframe tbody tr th:only-of-type {\n",
       "        vertical-align: middle;\n",
       "    }\n",
       "\n",
       "    .dataframe tbody tr th {\n",
       "        vertical-align: top;\n",
       "    }\n",
       "\n",
       "    .dataframe thead th {\n",
       "        text-align: right;\n",
       "    }\n",
       "</style>\n",
       "<table border=\"1\" class=\"dataframe\">\n",
       "  <thead>\n",
       "    <tr style=\"text-align: right;\">\n",
       "      <th></th>\n",
       "      <th>age</th>\n",
       "      <th>estrec</th>\n",
       "      <th>pnodes</th>\n",
       "      <th>progrec</th>\n",
       "      <th>tsize</th>\n",
       "      <th>tgrade</th>\n",
       "      <th>horTh</th>\n",
       "      <th>menostat</th>\n",
       "    </tr>\n",
       "  </thead>\n",
       "  <tbody>\n",
       "    <tr>\n",
       "      <th>0</th>\n",
       "      <td>70.0</td>\n",
       "      <td>66.0</td>\n",
       "      <td>3.0</td>\n",
       "      <td>48.0</td>\n",
       "      <td>21.0</td>\n",
       "      <td>1.0</td>\n",
       "      <td>0.0</td>\n",
       "      <td>1.0</td>\n",
       "    </tr>\n",
       "    <tr>\n",
       "      <th>1</th>\n",
       "      <td>56.0</td>\n",
       "      <td>77.0</td>\n",
       "      <td>7.0</td>\n",
       "      <td>61.0</td>\n",
       "      <td>12.0</td>\n",
       "      <td>1.0</td>\n",
       "      <td>1.0</td>\n",
       "      <td>1.0</td>\n",
       "    </tr>\n",
       "    <tr>\n",
       "      <th>2</th>\n",
       "      <td>58.0</td>\n",
       "      <td>271.0</td>\n",
       "      <td>9.0</td>\n",
       "      <td>52.0</td>\n",
       "      <td>35.0</td>\n",
       "      <td>1.0</td>\n",
       "      <td>1.0</td>\n",
       "      <td>1.0</td>\n",
       "    </tr>\n",
       "    <tr>\n",
       "      <th>3</th>\n",
       "      <td>59.0</td>\n",
       "      <td>29.0</td>\n",
       "      <td>4.0</td>\n",
       "      <td>60.0</td>\n",
       "      <td>17.0</td>\n",
       "      <td>1.0</td>\n",
       "      <td>1.0</td>\n",
       "      <td>1.0</td>\n",
       "    </tr>\n",
       "    <tr>\n",
       "      <th>4</th>\n",
       "      <td>73.0</td>\n",
       "      <td>65.0</td>\n",
       "      <td>1.0</td>\n",
       "      <td>26.0</td>\n",
       "      <td>35.0</td>\n",
       "      <td>1.0</td>\n",
       "      <td>0.0</td>\n",
       "      <td>1.0</td>\n",
       "    </tr>\n",
       "  </tbody>\n",
       "</table>\n",
       "</div>"
      ],
      "text/plain": [
       "    age  estrec  pnodes  progrec  tsize  tgrade  horTh  menostat\n",
       "0  70.0    66.0     3.0     48.0   21.0     1.0    0.0       1.0\n",
       "1  56.0    77.0     7.0     61.0   12.0     1.0    1.0       1.0\n",
       "2  58.0   271.0     9.0     52.0   35.0     1.0    1.0       1.0\n",
       "3  59.0    29.0     4.0     60.0   17.0     1.0    1.0       1.0\n",
       "4  73.0    65.0     1.0     26.0   35.0     1.0    0.0       1.0"
      ]
     },
     "execution_count": 5,
     "metadata": {},
     "output_type": "execute_result"
    }
   ],
   "source": [
    "X_enc = X[['age','estrec','pnodes','progrec','tsize']].copy()\n",
    "X_enc['tgrade'] = \\\n",
    "    OrdinalEncoder(categories=[[\"I\", \"II\", \"III\"]]).fit_transform(X[[\"tgrade\"]])\n",
    "X_enc['horTh'] = \\\n",
    "    OrdinalEncoder(categories=[[\"no\", \"yes\"]]).fit_transform(X[[\"horTh\"]])\n",
    "X_enc['menostat'] = \\\n",
    "    OrdinalEncoder(categories=[[\"Pre\", \"Post\"]]).fit_transform(X[[\"menostat\"]])\n",
    "X_enc.head()"
   ]
  },
  {
   "cell_type": "markdown",
   "id": "6a4afd96-d76c-44cf-b5e1-0656ba9bc989",
   "metadata": {},
   "source": [
    "Split dataset into training and testing sets"
   ]
  },
  {
   "cell_type": "code",
   "execution_count": 6,
   "id": "90af20c2-ced4-4a2d-9acd-3fbe14b17ba3",
   "metadata": {
    "tags": []
   },
   "outputs": [],
   "source": [
    "random_state = 20\n",
    "\n",
    "X_train, X_test, y_train, y_test = train_test_split(X_enc.values, y, \n",
    "                                                    test_size=0.25, \n",
    "                                                    stratify=y[event_field], \n",
    "                                                    random_state=random_state)"
   ]
  },
  {
   "cell_type": "markdown",
   "id": "95c738c2-dea0-43a1-b25f-236bb608b6dc",
   "metadata": {
    "tags": []
   },
   "source": [
    "## Class Interface\n",
    "The recommended interface for this package is the SurvivalStacker class. The will determine and save\n",
    "the time points on which the survial analysis is conducted."
   ]
  },
  {
   "cell_type": "code",
   "execution_count": 7,
   "id": "fe9586f9-e707-4ffe-b543-9520e0962b55",
   "metadata": {
    "tags": []
   },
   "outputs": [],
   "source": [
    "from survstack import SurvivalStacker\n",
    "ss = SurvivalStacker()"
   ]
  },
  {
   "cell_type": "markdown",
   "id": "e560bc39-5d79-41ae-9f90-494fbefd8b78",
   "metadata": {},
   "source": [
    "The training dataset it transformed into stacked survival format. In \n",
    "doing so, an additional column is added to X for each observed event time-point \n",
    "and rows a duplicated with respect to the number of survivors at each time-point. "
   ]
  },
  {
   "cell_type": "code",
   "execution_count": 8,
   "id": "b49b78a1-fdc5-49e3-9645-a6b33018265a",
   "metadata": {
    "tags": []
   },
   "outputs": [],
   "source": [
    "X_oo_train, y_oo_train = ss.fit_transform(X_train, y_train)\n"
   ]
  },
  {
   "cell_type": "markdown",
   "id": "eaff1c6c-1742-46a1-83e1-e177989cadf5",
   "metadata": {},
   "source": [
    "The test set is modified differently. In order to calculate the hazard across\n",
    "all time-points, a duplicate sample for each time-point must be created.\n",
    "To do so, simply do not provide `y` to the `.transform()` function.\n",
    "However, to maintain consitancy, a None value is returned as the second\n",
    "values of the tuple and can be discarded. "
   ]
  },
  {
   "cell_type": "code",
   "execution_count": 9,
   "id": "cb9cc554-e3c3-49b0-b753-b91967d57480",
   "metadata": {
    "tags": []
   },
   "outputs": [],
   "source": [
    "X_oo_test, _ = ss.transform(X_test)"
   ]
  },
  {
   "cell_type": "markdown",
   "id": "3e57beea-48b6-4cde-8c01-6fda1cee4239",
   "metadata": {},
   "source": [
    "Train the RandomForestClassifier on the stacked surival data"
   ]
  },
  {
   "cell_type": "code",
   "execution_count": 10,
   "id": "299df603-b445-453d-aff2-a811e93baac0",
   "metadata": {
    "tags": []
   },
   "outputs": [
    {
     "name": "stdout",
     "output_type": "stream",
     "text": [
      "CPU times: user 3min 18s, sys: 1.52 s, total: 3min 19s\n",
      "Wall time: 5.99 s\n"
     ]
    }
   ],
   "source": [
    "%%time\n",
    "oo_rfc = RandomForestClassifier(\n",
    "    n_estimators=1000,\n",
    "    n_jobs=-1,\n",
    "    class_weight='balanced',\n",
    "    random_state=random_state)\n",
    "_ = oo_rfc.fit(X_oo_train, y_oo_train)"
   ]
  },
  {
   "cell_type": "markdown",
   "id": "e96f283f-17a9-4ce1-9b7b-20bcc601629d",
   "metadata": {},
   "source": [
    "Predict the class probabilities for the test data and extract\n",
    "the probaility of an event (class 1). Convert this to a cummulative\n",
    "hazard function."
   ]
  },
  {
   "cell_type": "code",
   "execution_count": 11,
   "id": "f02aa8f3-b6e7-428a-958f-912975bbf0dc",
   "metadata": {
    "tags": []
   },
   "outputs": [],
   "source": [
    "oo_test_estimates = oo_rfc.predict_proba(X_oo_test)[:,1]\n",
    "oo_test_chf = ss.cumulative_hazard_function(oo_test_estimates)"
   ]
  },
  {
   "cell_type": "markdown",
   "id": "3d4c247d-a1a4-4cc9-bbbb-999b9ee41918",
   "metadata": {
    "tags": []
   },
   "source": [
    "We examine the predictive power of the models using the cumulative/dynamic\n",
    "AUC method provided in scikit-survival. However, this function require that\n",
    "all examined time-points are contained within the observations of the test\n",
    "set, so we may have to first filter the results."
   ]
  },
  {
   "cell_type": "code",
   "execution_count": 12,
   "id": "e16e10c7-5041-425c-8cf2-cd894f6c0bf5",
   "metadata": {
    "tags": []
   },
   "outputs": [],
   "source": [
    "def filter_times_on_test(survival_test, estimate, times):\n",
    "    event_field, time_field = survival_test.dtype.names\n",
    "    valid_idx = np.where((times > survival_test[time_field].min())&\n",
    "                         (times < survival_test[time_field].max()))[0]\n",
    "    valid_times = times[valid_idx]\n",
    "    valid_estimate = estimate[:, valid_idx]\n",
    "    return valid_times, valid_estimate"
   ]
  },
  {
   "cell_type": "code",
   "execution_count": 13,
   "id": "fcc5b50f-d569-4168-ab82-3ca3f82d6151",
   "metadata": {
    "tags": []
   },
   "outputs": [],
   "source": [
    "oo_filt_times, oo_filt_chf = filter_times_on_test(y_test, oo_test_chf, ss.times)"
   ]
  },
  {
   "cell_type": "markdown",
   "id": "2c278741-14bd-4735-bc26-b5ec8e6c3349",
   "metadata": {},
   "source": [
    "Calculate the cumulative/dynamic AUC"
   ]
  },
  {
   "cell_type": "code",
   "execution_count": 14,
   "id": "2237e09d-cb44-4130-9ba4-492cdde66185",
   "metadata": {
    "tags": []
   },
   "outputs": [
    {
     "name": "stderr",
     "output_type": "stream",
     "text": [
      "/opt/conda/lib/python3.10/site-packages/sksurv/metrics.py:493: RuntimeWarning: invalid value encountered in divide\n",
      "  true_pos = cumsum_tp / cumsum_tp[-1]\n"
     ]
    }
   ],
   "source": [
    "oo_cdauc = cumulative_dynamic_auc(survival_train=y_train, \n",
    "                                  survival_test=y_test, \n",
    "                                  estimate=oo_filt_chf, \n",
    "                                  times=oo_filt_times)[0]"
   ]
  },
  {
   "cell_type": "markdown",
   "id": "ebb95b04-8e44-4222-8b0b-5bf71bdb1ad4",
   "metadata": {},
   "source": [
    "Plot the results. We get a mean AUC of 0.757."
   ]
  },
  {
   "cell_type": "code",
   "execution_count": 15,
   "id": "29814770-cc7e-4295-97ca-1a5b0dec1c9e",
   "metadata": {
    "tags": []
   },
   "outputs": [
    {
     "data": {
      "image/png": "[encoded data removed]",
      "text/plain": [
       "<Figure size 640x480 with 1 Axes>"
      ]
     },
     "metadata": {},
     "output_type": "display_data"
    }
   ],
   "source": [
    "ax = sns.lineplot(y=oo_cdauc, x=oo_filt_times)\n",
    "_ = ax.set(ylim=(0, 1))\n",
    "_ = ax.set_title(f\"Stacked (OO) RandomForestClassifier AUC\")\n",
    "x_pos = np.mean(ax.get_xlim())\n",
    "_ = ax.text(x_pos, 0.1, f\"Mean AUC = {np.nanmean(oo_cdauc):0.3f}\", \n",
    "            ha = \"center\", va = \"center\")"
   ]
  },
  {
   "cell_type": "markdown",
   "id": "be2afadf-ebf1-48d6-a2ec-12de9893c573",
   "metadata": {},
   "source": [
    "## Functional Approach\n",
    "Alternatively, the stacked survival analysis can be performed using\n",
    "the functional interface."
   ]
  },
  {
   "cell_type": "code",
   "execution_count": 16,
   "id": "82e04b25-b044-407f-832c-ab3f7f0120f5",
   "metadata": {
    "tags": []
   },
   "outputs": [],
   "source": [
    "import survstack.functional as ssf"
   ]
  },
  {
   "cell_type": "markdown",
   "id": "2371fc80-7d24-4c19-a78f-fae02dc60580",
   "metadata": {},
   "source": [
    "Determine the unique event observation times of the training set. "
   ]
  },
  {
   "cell_type": "code",
   "execution_count": 17,
   "id": "1024a157-f97c-4e76-af2a-10db1bbeb350",
   "metadata": {
    "tags": []
   },
   "outputs": [],
   "source": [
    "event_times = np.unique(y_train[y_train['cens']]['time'])"
   ]
  },
  {
   "cell_type": "markdown",
   "id": "8d978063-9849-4c74-a13c-450593094aee",
   "metadata": {},
   "source": [
    "Generate the stacked survival training and testing datasets"
   ]
  },
  {
   "cell_type": "code",
   "execution_count": 18,
   "id": "71f500ba-f724-45fa-8939-9faa9d8051a7",
   "metadata": {
    "tags": []
   },
   "outputs": [],
   "source": [
    "X_fun_train, y_fun_train = ssf.stack_timepoints(X_train, y_train, event_times)\n",
    "X_fun_test = ssf.stack_eval(X_test, event_times)"
   ]
  },
  {
   "cell_type": "markdown",
   "id": "2abad7c5-d344-4b51-8314-779b5a0fcb30",
   "metadata": {},
   "source": [
    "Train the model and calculate the cumulative hazard function."
   ]
  },
  {
   "cell_type": "code",
   "execution_count": 19,
   "id": "9ea1a5d4-eebe-4f0d-95d2-6e157b779bb7",
   "metadata": {
    "tags": []
   },
   "outputs": [
    {
     "name": "stdout",
     "output_type": "stream",
     "text": [
      "CPU times: user 3min 17s, sys: 2.09 s, total: 3min 19s\n",
      "Wall time: 6.02 s\n"
     ]
    }
   ],
   "source": [
    "%%time\n",
    "f_rfc = RandomForestClassifier(\n",
    "    n_estimators=1000,\n",
    "    n_jobs=-1,\n",
    "    class_weight='balanced',\n",
    "    random_state=random_state)\n",
    "_ = f_rfc.fit(X_fun_train, y_fun_train)"
   ]
  },
  {
   "cell_type": "code",
   "execution_count": 20,
   "id": "8517c021-826f-45e2-85bf-3a84dc6fa510",
   "metadata": {
    "tags": []
   },
   "outputs": [],
   "source": [
    "f_test_estimates = f_rfc.predict_proba(X_fun_test)[:,1]\n",
    "f_test_chf = ssf.cumulative_hazard_function(f_test_estimates, event_times)"
   ]
  },
  {
   "cell_type": "markdown",
   "id": "056cc91a-ed84-4d9c-9789-935624dbac19",
   "metadata": {
    "tags": []
   },
   "source": [
    "Calculate the cumulative/dynamic AUC. As expected, we again observe a\n",
    "mean AUC of 0.757 and an identical curve."
   ]
  },
  {
   "cell_type": "code",
   "execution_count": 21,
   "id": "a55a4f4d-90ed-4d9a-9118-e3e3d07d9893",
   "metadata": {
    "tags": []
   },
   "outputs": [
    {
     "name": "stderr",
     "output_type": "stream",
     "text": [
      "/opt/conda/lib/python3.10/site-packages/sksurv/metrics.py:493: RuntimeWarning: invalid value encountered in divide\n",
      "  true_pos = cumsum_tp / cumsum_tp[-1]\n"
     ]
    }
   ],
   "source": [
    "f_filt_times, f_filt_chf = filter_times_on_test(y_test, f_test_chf, event_times)\n",
    "f_cdauc = cumulative_dynamic_auc(survival_train=y_train, survival_test=y_test, estimate=f_filt_chf, times=f_filt_times)[0]"
   ]
  },
  {
   "cell_type": "code",
   "execution_count": 22,
   "id": "18b642cb-cded-4bec-b63d-bbdc6138573e",
   "metadata": {
    "tags": []
   },
   "outputs": [
    {
     "data": {
      "image/png": "[encoded data removed]",
      "text/plain": [
       "<Figure size 640x480 with 1 Axes>"
      ]
     },
     "metadata": {},
     "output_type": "display_data"
    }
   ],
   "source": [
    "ax = sns.lineplot(y=f_cdauc, x=f_filt_times)\n",
    "_ = ax.set(ylim=(0, 1))\n",
    "_ = ax.set_title(f\"Stacked (Func) RandomForestClassifier AUC\")\n",
    "x_pos = np.mean(ax.get_xlim())\n",
    "_ = ax.text(x_pos, 0.1, f\"Mean AUC = {np.nanmean(f_cdauc):0.3f}\", ha = \"center\", va = \"center\")"
   ]
  },
  {
   "cell_type": "markdown",
   "id": "8d2d1d12-2a80-47c3-8547-c5e75d192cd2",
   "metadata": {
    "tags": []
   },
   "source": [
    "## scikit-survival Random Survival Forest\n",
    "For comparison, we can do the same analysis on the original data\n",
    "using a random survival forest as provided by scikit-survival. Briefly,\n",
    "we train the RandomSurvivalForest on the training data, and predict the\n",
    "cumulative hazard function of the test data. Finally, we calculate the\n",
    "cumulative/dynamic AUC of the prediction."
   ]
  },
  {
   "cell_type": "code",
   "execution_count": 23,
   "id": "a23b9976-a9ba-41b0-af0e-02e6a55b7e10",
   "metadata": {
    "tags": []
   },
   "outputs": [],
   "source": [
    "from sksurv.ensemble import RandomSurvivalForest"
   ]
  },
  {
   "cell_type": "code",
   "execution_count": 24,
   "id": "944930b9-fcfd-4719-8741-d29bd8db2ca2",
   "metadata": {
    "tags": []
   },
   "outputs": [
    {
     "name": "stdout",
     "output_type": "stream",
     "text": [
      "CPU times: user 53.5 s, sys: 44 s, total: 1min 37s\n",
      "Wall time: 25.7 s\n"
     ]
    }
   ],
   "source": [
    "%%time\n",
    "rsf = RandomSurvivalForest(\n",
    "    n_estimators=1000, \n",
    "    n_jobs=-1, \n",
    "    random_state=random_state\n",
    ")\n",
    "_ = rsf.fit(X_train, y_train)"
   ]
  },
  {
   "cell_type": "code",
   "execution_count": 25,
   "id": "d1a2c548-29bf-4cf8-8876-090d483ab357",
   "metadata": {
    "tags": []
   },
   "outputs": [],
   "source": [
    "rsf_test_chf = rsf.predict_cumulative_hazard_function(X_test, return_array=True)"
   ]
  },
  {
   "cell_type": "code",
   "execution_count": 26,
   "id": "844678fd-5465-42b9-b262-d8fab3e66738",
   "metadata": {
    "tags": []
   },
   "outputs": [
    {
     "name": "stderr",
     "output_type": "stream",
     "text": [
      "/opt/conda/lib/python3.10/site-packages/sksurv/metrics.py:493: RuntimeWarning: invalid value encountered in divide\n",
      "  true_pos = cumsum_tp / cumsum_tp[-1]\n"
     ]
    }
   ],
   "source": [
    "rsf_filt_times, rsf_filt_chf = filter_times_on_test(y_test, rsf_test_chf, event_times)\n",
    "rsf_cdauc = cumulative_dynamic_auc(survival_train=y_train, survival_test=y_test, estimate=rsf_filt_chf, times=rsf_filt_times)[0]"
   ]
  },
  {
   "cell_type": "markdown",
   "id": "e348d1d3-2991-4cdd-85f7-eab9fb895281",
   "metadata": {},
   "source": [
    "Plotting the results we see a very famililar curve and a slightly better mean AUC of 0.781."
   ]
  },
  {
   "cell_type": "code",
   "execution_count": 27,
   "id": "58a6c9db-099d-438c-8c1c-db9460d9520c",
   "metadata": {
    "tags": []
   },
   "outputs": [
    {
     "data": {
      "image/png": "[encoded data removed]",
      "text/plain": [
       "<Figure size 640x480 with 1 Axes>"
      ]
     },
     "metadata": {},
     "output_type": "display_data"
    }
   ],
   "source": [
    "ax = sns.lineplot(y=rsf_cdauc, x=rsf_filt_times)\n",
    "_ = ax.set(ylim=(0, 1))\n",
    "_ = ax.set_title(f\"RandomSurvivalForest AUC\")\n",
    "x_pos = np.mean(ax.get_xlim())\n",
    "_ = ax.text(x_pos, 0.1, f\"Mean AUC = {np.nanmean(rsf_cdauc):0.3f}\", ha = \"center\", va = \"center\")"
   ]
  }
 ],
 "metadata": {
  "kernelspec": {
   "display_name": "Python 3 (ipykernel)",
   "language": "python",
   "name": "python3"
  },
  "language_info": {
   "codemirror_mode": {
    "name": "ipython",
    "version": 3
   },
   "file_extension": ".py",
   "mimetype": "text/x-python",
   "name": "python",
   "nbconvert_exporter": "python",
   "pygments_lexer": "ipython3",
   "version": "3.10.11"
  }
 },
 "nbformat": 4,
 "nbformat_minor": 5
}
